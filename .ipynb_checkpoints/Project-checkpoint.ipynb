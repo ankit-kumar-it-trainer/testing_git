{
 "cells": [
  {
   "cell_type": "markdown",
   "id": "43679a6b-3b2b-4805-88e1-f5a96d9002ba",
   "metadata": {
    "id": "43679a6b-3b2b-4805-88e1-f5a96d9002ba"
   },
   "source": [
    "### Welcome to CodeBook – Your Data Science Internship Begins!\n",
    "\n",
    "#### Introduction\n",
    "\n",
    "Congratulations! You have just been hired as a Data Scientist Intern at CodeBook – The Social Media for Coders.\n",
    "This Delhi-based company is offering you a ₹10 LPA job if you successfully complete this 1-month internship.\n",
    "But before you get there, you must prove your skills using only Python—no pandas, NumPy, or fancy libraries!\n",
    "\n",
    "Your manager Puneet Kumar has assigned you your first task: analyzing a data dump of CodeBook users using pure Python.\n",
    "Your job is to load and explore the data to understand its structure.\n",
    "\n",
    "\n",
    "Task 1: Load the User Data\n",
    "Your manager has given you a dataset containing information about CodeBook users, their connections (friends), and the posts they have liked.\n",
    "\n",
    "This is how the data will look like (in JSON format):\n",
    "\n",
    "{\n",
    "  \"users\": [\n",
    "    {\"id\": 1, \"name\": \"Amit\", \"friends\": [2, 3], \"liked_pages\": [101]},\n",
    "    {\"id\": 2, \"name\": \"Priya\", \"friends\": [1, 4], \"liked_pages\": [102]},\n",
    "    {\"id\": 3, \"name\": \"Rahul\", \"friends\": [1], \"liked_pages\": [101, 103]},\n",
    "    {\"id\": 4, \"name\": \"Sara\", \"friends\": [2], \"liked_pages\": [104]}\n",
    "  ],\n",
    "  \"pages\": [\n",
    "    {\"id\": 101, \"name\": \"Python Developers\"},\n",
    "    {\"id\": 102, \"name\": \"Data Science Enthusiasts\"},\n",
    "    {\"id\": 103, \"name\": \"AI & ML Community\"},\n",
    "    {\"id\": 104, \"name\": \"Web Dev Hub\"}\n",
    "  ]\n",
    "}\n",
    "\n",
    "#### Explanation:\n",
    "\n",
    "Read this data and understand its structure. The data contains three main components:\n",
    "1. Users: Each user has an ID, name, a list of friends (by their IDs), and a list of liked pages (by their IDs).\n",
    "\n",
    "2. Pages: Each page has an ID and a name.\n",
    "\n",
    "3. Connections:Users can have multiple friends and can like multiple pages."
   ]
  },
  {
   "cell_type": "code",
   "execution_count": 29,
   "id": "alu4WZ-LTECI",
   "metadata": {
    "executionInfo": {
     "elapsed": 25,
     "status": "ok",
     "timestamp": 1753929184430,
     "user": {
      "displayName": "Ankit Kumar",
      "userId": "16938395569273739698"
     },
     "user_tz": -330
    },
    "id": "alu4WZ-LTECI"
   },
   "outputs": [],
   "source": [
    "import json\n",
    "\n",
    "# loading data\n",
    "\n",
    "def load_data(filename):\n",
    "  with open(filename,'r') as file:\n",
    "    data = json.load(file)\n",
    "    return data"
   ]
  },
  {
   "cell_type": "code",
   "execution_count": 30,
   "id": "L3rSHvQWUlec",
   "metadata": {
    "colab": {
     "base_uri": "https://localhost:8080/"
    },
    "executionInfo": {
     "elapsed": 54,
     "status": "ok",
     "timestamp": 1753929200817,
     "user": {
      "displayName": "Ankit Kumar",
      "userId": "16938395569273739698"
     },
     "user_tz": -330
    },
    "id": "L3rSHvQWUlec",
    "outputId": "b4eb3396-6f2b-4fb1-ff8f-42a7bfd73a7d"
   },
   "outputs": [
    {
     "data": {
      "text/plain": [
       "{'users': [{'id': 1, 'name': 'Amit', 'friends': [2, 3], 'liked_pages': [101]},\n",
       "  {'id': 2, 'name': 'Priya', 'friends': [1, 4], 'liked_pages': [102]},\n",
       "  {'id': 3, 'name': 'Rahul', 'friends': [1], 'liked_pages': [101, 103]},\n",
       "  {'id': 4, 'name': 'Sara', 'friends': [2], 'liked_pages': [104]}],\n",
       " 'pages': [{'id': 101, 'name': 'Python Developers'},\n",
       "  {'id': 102, 'name': 'Data Science Enthusiasts'},\n",
       "  {'id': 103, 'name': 'AI & ML Community'},\n",
       "  {'id': 104, 'name': 'Web Dev Hub'}]}"
      ]
     },
     "execution_count": 30,
     "metadata": {},
     "output_type": "execute_result"
    }
   ],
   "source": [
    "data = load_data('users_data.json')\n",
    "\n",
    "data"
   ]
  },
  {
   "cell_type": "code",
   "execution_count": 31,
   "id": "pIlFDgjsaqCf",
   "metadata": {
    "colab": {
     "base_uri": "https://localhost:8080/"
    },
    "executionInfo": {
     "elapsed": 46,
     "status": "ok",
     "timestamp": 1753930797016,
     "user": {
      "displayName": "Ankit Kumar",
      "userId": "16938395569273739698"
     },
     "user_tz": -330
    },
    "id": "pIlFDgjsaqCf",
    "outputId": "2b324a8b-6808-404b-e8a8-b9e910ccd3a8"
   },
   "outputs": [
    {
     "name": "stdout",
     "output_type": "stream",
     "text": [
      "User's Details:-\n",
      "ID : 1 - Amit is friends with [2, 3] and their liked pages are [101]\n",
      "ID : 2 - Priya is friends with [1, 4] and their liked pages are [102]\n",
      "ID : 3 - Rahul is friends with [1] and their liked pages are [101, 103]\n",
      "ID : 4 - Sara is friends with [2] and their liked pages are [104]\n",
      "\n",
      "Page's Details:-\n",
      "ID : 101 - Python Developers\n",
      "ID : 102 - Data Science Enthusiasts\n",
      "ID : 103 - AI & ML Community\n",
      "ID : 104 - Web Dev Hub\n"
     ]
    }
   ],
   "source": [
    "def display(data):\n",
    "  print(\"User's Details:-\")\n",
    "  for i in data['users']:\n",
    "    print(f\"ID : {i['id']} - {i['name']} is friends with {i['friends']} and their liked pages are {i['liked_pages']}\")\n",
    "      \n",
    "  print(\"\\nPage's Details:-\")\n",
    "  for x in data['pages']:\n",
    "      print(f\"ID : {x['id']} - {x['name']}\")\n",
    "\n",
    "display(data)"
   ]
  },
  {
   "cell_type": "markdown",
   "id": "75c36445-d7a6-4b21-88a9-70825b81d406",
   "metadata": {
    "id": "75c36445-d7a6-4b21-88a9-70825b81d406"
   },
   "source": [
    "## Cleaning and Structuring the Data\n",
    "\n",
    "### Introduction\n",
    "\n",
    "Your manager is impressed with your progress but points out that the data is messy.\n",
    "Before we can analyze it effectively, we need to clean and structure the data properly.\n",
    "\n",
    "Your task is to:\n",
    " * Handle missing values\n",
    " * Remove duplicate or inconsistent data\n",
    " * Standardize the data format\n",
    "\n",
    "Let's get started!\n",
    "\n",
    "#### Task 1: Identify Issues in the Data\n",
    "Your manager provides you with an example dataset where some records are incomplete or incorrect.\n",
    "Here’s an example:\n",
    "\n",
    "{\n",
    "  \"users\": [\n",
    "    {\"id\": 1, \"name\": \"Amit\", \"friends\": [2, 3], \"liked_pages\": [101]},\n",
    "    {\"id\": 2, \"name\": \"Priya\", \"friends\": [1, 4], \"liked_pages\": [102]},\n",
    "    {\"id\": 3, \"name\": \"\", \"friends\": [1], \"liked_pages\": [101, 103]},\n",
    "    {\"id\": 4, \"name\": \"Sara\", \"friends\": [2, 2], \"liked_pages\": [104]},\n",
    "    {\"id\": 5, \"name\": \"Amit\", \"friends\": [], \"liked_pages\": []}\n",
    "  ],\n",
    "  \"pages\": [\n",
    "    {\"id\": 101, \"name\": \"Python Developers\"},\n",
    "    {\"id\": 102, \"name\": \"Data Science Enthusiasts\"},\n",
    "    {\"id\": 103, \"name\": \"AI & ML Community\"},\n",
    "    {\"id\": 104, \"name\": \"Web Dev Hub\"},\n",
    "    {\"id\": 104, \"name\": \"Web Development\"}\n",
    "  ]\n",
    "}\n",
    "\n",
    "#### Problems:\n",
    "* User ID 3 has an empty name.\n",
    "* User ID 4 has a duplicate friend entry.\n",
    "* User ID 5 has no connections or liked pages (inactive user).\n",
    "* The pages list contains duplicate page IDs."
   ]
  },
  {
   "cell_type": "code",
   "execution_count": 42,
   "id": "72CbbrjNRQXx",
   "metadata": {
    "id": "72CbbrjNRQXx"
   },
   "outputs": [
    {
     "data": {
      "text/plain": [
       "{'users': [{'id': 1, 'name': 'Amit', 'friends': [2, 3], 'liked_pages': [101]},\n",
       "  {'id': 2, 'name': 'Priya', 'friends': [1, 4], 'liked_pages': [102]},\n",
       "  {'id': 4, 'name': 'Sara', 'friends': [2], 'liked_pages': [104]}],\n",
       " 'pages': [{'id': 101, 'name': 'Python Developers'},\n",
       "  {'id': 102, 'name': 'Data Science Enthusiasts'},\n",
       "  {'id': 103, 'name': 'AI & ML Community'},\n",
       "  {'id': 104, 'name': 'Web Development'}]}"
      ]
     },
     "execution_count": 42,
     "metadata": {},
     "output_type": "execute_result"
    }
   ],
   "source": [
    "def clean_data(data):\n",
    "    # remove users with the missing names\n",
    "    data['users'] = [user for user in data[\"users\"] if user['name'].strip()]\n",
    "\n",
    "    # remove duplicates friends entry\n",
    "    for user in data[\"users\"]:\n",
    "        user['friends'] = list(set(user['friends']))\n",
    "\n",
    "    # remove inactive users\n",
    "    data['users'] = [user for user in data['users'] if user['friends'] or user['liked_pages']]\n",
    "\n",
    "    # duplicates pages\n",
    "    uniques_pages = {}\n",
    "    for page in data['pages']:\n",
    "        uniques_pages[page['id']] = page\n",
    "    data['pages'] = list(uniques_pages.values())\n",
    "    return data\n",
    "\n",
    "\n",
    "\n",
    "clean_data(data)"
   ]
  },
  {
   "cell_type": "code",
   "execution_count": 39,
   "id": "2c58a7b9-9332-48a8-a9ad-97429d15e8ec",
   "metadata": {},
   "outputs": [
    {
     "name": "stdout",
     "output_type": "stream",
     "text": [
      "Data has been cleaned successfully\n"
     ]
    }
   ],
   "source": [
    "data = json.load(open('data.json'))\n",
    "data = clean_data(data)\n",
    "json.dump(data,open('clean_data.json','w'),indent = 4)\n",
    "print(\"Data has been cleaned successfully\")"
   ]
  },
  {
   "cell_type": "markdown",
   "id": "b8c419fd-3030-469b-9a4c-4826de27fe4a",
   "metadata": {
    "id": "b8c419fd-3030-469b-9a4c-4826de27fe4a"
   },
   "source": [
    "### Next Steps\n",
    "Your manager is happy with the cleaned data and says: \"Great! Now that our data is structured, let's start analyzing it. First, let's build a 'People You May Know' feature!\""
   ]
  },
  {
   "cell_type": "code",
   "execution_count": 50,
   "id": "3lwW_WQ-RPCz",
   "metadata": {
    "colab": {
     "base_uri": "https://localhost:8080/"
    },
    "executionInfo": {
     "elapsed": 90,
     "status": "ok",
     "timestamp": 1753928279714,
     "user": {
      "displayName": "Ankit Kumar",
      "userId": "16938395569273739698"
     },
     "user_tz": -330
    },
    "id": "3lwW_WQ-RPCz",
    "outputId": "1d6ba3ea-c8fe-4ea8-e0f6-42e95094d6a0"
   },
   "outputs": [
    {
     "name": "stdout",
     "output_type": "stream",
     "text": [
      "1\n",
      "4\n"
     ]
    }
   ],
   "source": [
    "def find_people_may_know(user_id,data):\n",
    "    user_friends = {}\n",
    "    for user in data['users']:\n",
    "        user_friends[user['id']] = set(user['friends'])\n",
    "\n",
    "    if user_id not in user_friends:\n",
    "        return []\n",
    "\n",
    "    direct_friends = user_friends[user_id]\n",
    "\n",
    "    for friends in direct_friends:\n",
    "        print(friends)\n",
    "        \n",
    "    # return user_friends\n",
    "\n",
    "data = load_data('clean_data.json')\n",
    "user_id = 2\n",
    "\n",
    "find_people_may_know(user_id,data)\n"
   ]
  },
  {
   "cell_type": "markdown",
   "id": "aaa07a78-71e1-4384-8c45-f07cfe1223fd",
   "metadata": {
    "id": "aaa07a78-71e1-4384-8c45-f07cfe1223fd"
   },
   "source": [
    "### Next Steps\n",
    "Wow! Let's build one more last feature, 'Page recommendation'"
   ]
  },
  {
   "cell_type": "code",
   "execution_count": null,
   "id": "83b9d273-1d8c-48fe-a758-b5fd150f0141",
   "metadata": {},
   "outputs": [],
   "source": []
  }
 ],
 "metadata": {
  "colab": {
   "provenance": []
  },
  "kernelspec": {
   "display_name": "Python 3 (ipykernel)",
   "language": "python",
   "name": "python3"
  },
  "language_info": {
   "codemirror_mode": {
    "name": "ipython",
    "version": 3
   },
   "file_extension": ".py",
   "mimetype": "text/x-python",
   "name": "python",
   "nbconvert_exporter": "python",
   "pygments_lexer": "ipython3",
   "version": "3.13.5"
  }
 },
 "nbformat": 4,
 "nbformat_minor": 5
}
